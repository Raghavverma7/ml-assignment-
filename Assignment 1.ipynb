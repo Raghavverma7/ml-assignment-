{
 "cells": [
  {
   "cell_type": "code",
   "execution_count": 1,
   "id": "14e25320",
   "metadata": {},
   "outputs": [
    {
     "name": "stdout",
     "output_type": "stream",
     "text": [
      "[5 4 6 3 2 1]\n"
     ]
    }
   ],
   "source": [
    "#Q.1\n",
    "#(a)\n",
    "\n",
    "import numpy as np\n",
    "arr = np.array([1, 2, 3, 6, 4, 5])\n",
    "reversed_arr = arr[::-1]\n",
    "print(reversed_arr)"
   ]
  },
  {
   "cell_type": "code",
   "execution_count": 4,
   "id": "29cb6207",
   "metadata": {},
   "outputs": [
    {
     "name": "stdout",
     "output_type": "stream",
     "text": [
      "[1 2 3 2 4 5 1 2 3]\n"
     ]
    }
   ],
   "source": [
    "#(b)\n",
    "\n",
    "array1 = np.array([[1, 2, 3], [2, 4, 5], [1, 2, 3]])\n",
    "flat1 = array1.flatten()\n",
    "print(flat1)"
   ]
  },
  {
   "cell_type": "code",
   "execution_count": 5,
   "id": "bc612446",
   "metadata": {},
   "outputs": [
    {
     "name": "stdout",
     "output_type": "stream",
     "text": [
      "True\n",
      "True\n"
     ]
    }
   ],
   "source": [
    "#(c)\n",
    "\n",
    "arr1 = np.array([[1, 2], [3, 4]])\n",
    "arr2 = np.array([[1, 2], [3, 4]])\n",
    "print(np.array_equal(arr1, arr2))  \n",
    "print((arr1 == arr2).all())"
   ]
  },
  {
   "cell_type": "code",
   "execution_count": 7,
   "id": "6350df52",
   "metadata": {},
   "outputs": [
    {
     "name": "stdout",
     "output_type": "stream",
     "text": [
      "Most frequent value: 1\n",
      "Indices of most frequent value: [0 5 7 8 9]\n",
      "Most frequent value: 1\n",
      "Indices of most frequent value: [0 1 2]\n"
     ]
    }
   ],
   "source": [
    "#(d)\n",
    "#(i)\n",
    "\n",
    "from collections import Counter\n",
    "x = np.array([1, 2, 3, 4, 5, 1, 2, 1, 1, 1])\n",
    "freq = Counter(x)\n",
    "most_common_val, count = freq.most_common(1)[0]\n",
    "indices = np.where(x == most_common_val)[0]\n",
    "print(\"Most frequent value:\", most_common_val)\n",
    "print(\"Indices of most frequent value:\", indices)\n",
    "\n",
    "#(ii)\n",
    "y = np.array([1, 1, 1, 2, 3, 4, 2, 4, 3, 3])\n",
    "freq_y = Counter(y)\n",
    "most_common_val_y, count_y = freq_y.most_common(1)[0]\n",
    "indices_y = np.where(y == most_common_val_y)[0]\n",
    "print(\"Most frequent value:\", most_common_val_y)\n",
    "print(\"Indices of most frequent value:\", indices_y)"
   ]
  },
  {
   "cell_type": "code",
   "execution_count": 8,
   "id": "6526bdb7",
   "metadata": {},
   "outputs": [
    {
     "name": "stdout",
     "output_type": "stream",
     "text": [
      "Sum of all elements: 45\n",
      "Sum of all elements row-wise:\n",
      " [[14]\n",
      " [16]\n",
      " [15]]\n",
      "Sum of all elements column-wise:\n",
      " [[20  9 16]]\n"
     ]
    }
   ],
   "source": [
    "#(e)\n",
    "gfg = np.matrix('[4, 1, 9; 12, 3, 1; 4, 5, 6]')\n",
    "\n",
    "#(i)\n",
    "total_sum = gfg.sum()\n",
    "print(\"Sum of all elements:\", total_sum)\n",
    "\n",
    "#(ii)\n",
    "row_sum = gfg.sum(axis=1)\n",
    "print(\"Sum of all elements row-wise:\\n\", row_sum)\n",
    "\n",
    "#(iii)\n",
    "col_sum = gfg.sum(axis=0)\n",
    "print(\"Sum of all elements column-wise:\\n\", col_sum)"
   ]
  },
  {
   "cell_type": "code",
   "execution_count": 9,
   "id": "5b799d3b",
   "metadata": {},
   "outputs": [
    {
     "name": "stdout",
     "output_type": "stream",
     "text": [
      "Sum of diagonal elements: 176\n",
      "Eigenvalues of the matrix: [98.16835147 28.097044   49.73460452]\n",
      "Eigenvectors of the matrix:\n",
      " [[ 0.4574917   0.34637121 -0.15017693]\n",
      " [ 0.28447814 -0.72784061 -0.4852124 ]\n",
      " [ 0.84248058  0.59184038  0.8614034 ]]\n",
      "Inverse of the matrix:\n",
      " [[ 0.02404141 -0.00911212 -0.00444671]\n",
      " [-0.01667882  0.02966905  0.0024785 ]\n",
      " [ 0.00631287 -0.01603732  0.01217379]]\n",
      "Determinant of the matrix: 137180.0000000001\n"
     ]
    }
   ],
   "source": [
    "#(f)\n",
    "n_array = np.array([[55, 25, 15],\n",
    "                    [30, 44, 2],\n",
    "                    [11, 45, 77]])\n",
    "\n",
    "#(i)\n",
    "diagonal_sum = np.trace(n_array)\n",
    "print(\"Sum of diagonal elements:\", diagonal_sum)\n",
    "\n",
    "#(ii)\n",
    "eigenvalues, eigenvectors = np.linalg.eig(n_array)\n",
    "print(\"Eigenvalues of the matrix:\", eigenvalues)\n",
    "\n",
    "#(iii)\n",
    "print(\"Eigenvectors of the matrix:\\n\", eigenvectors)\n",
    "\n",
    "#(iv)\n",
    "try:\n",
    "    inverse_matrix = np.linalg.inv(n_array)\n",
    "    print(\"Inverse of the matrix:\\n\", inverse_matrix)\n",
    "except np.linalg.LinAlgError:\n",
    "    print(\"Matrix is not invertible.\")\n",
    "\n",
    "#(iv)\n",
    "determinant = np.linalg.det(n_array)\n",
    "print(\"Determinant of the matrix:\", determinant)"
   ]
  },
  {
   "cell_type": "code",
   "execution_count": 10,
   "id": "fdfbb532",
   "metadata": {},
   "outputs": [
    {
     "name": "stdout",
     "output_type": "stream",
     "text": [
      "Matrix Multiplication of p and q (i):\n",
      " [[16 19]\n",
      " [26 31]]\n",
      "Covariance between matrices p and q (i):\n",
      " [[0.66666667 1.        ]\n",
      " [1.         1.66666667]]\n",
      "Matrix Multiplication of p and q (ii):\n",
      " [[16 19  5]\n",
      " [26 31  8]\n",
      " [46 55 14]]\n",
      "Covariance between matrices p and q (ii):\n",
      " [[2.16666667 0.23333333]\n",
      " [0.23333333 5.36666667]]\n"
     ]
    }
   ],
   "source": [
    "#(g)\n",
    "\n",
    "#(i)\n",
    "p_i = np.array([[1, 2], [2, 3]])\n",
    "q_i = np.array([[4, 5], [6, 7]])\n",
    "result_multiplication_i = np.dot(p_i, q_i)\n",
    "print(\"Matrix Multiplication of p and q (i):\\n\", result_multiplication_i)\n",
    "covariance_matrix_i = np.cov(p_i.flatten(), q_i.flatten())\n",
    "print(\"Covariance between matrices p and q (i):\\n\", covariance_matrix_i)\n",
    "\n",
    "#(ii)\n",
    "p_ii = np.array([[1, 2], [2, 3], [4, 5]])\n",
    "q_ii = np.array([[4, 5, 1], [6, 7, 2]])\n",
    "result_multiplication_ii = np.dot(p_ii, q_ii)\n",
    "print(\"Matrix Multiplication of p and q (ii):\\n\", result_multiplication_ii)\n",
    "covariance_matrix_ii = np.cov(p_ii.flatten(), q_ii.flatten())\n",
    "print(\"Covariance between matrices p and q (ii):\\n\", covariance_matrix_ii)\n"
   ]
  },
  {
   "cell_type": "code",
   "execution_count": 11,
   "id": "8f1391d2",
   "metadata": {},
   "outputs": [
    {
     "name": "stdout",
     "output_type": "stream",
     "text": [
      "Inner Product (Dot Product) of x and y:\n",
      " [[17 52]\n",
      " [13 62]]\n",
      "Outer Product (Row 1 of x and Row 1 of y):\n",
      " [[ 2 10  0]\n",
      " [ 3 15  0]\n",
      " [ 4 20  0]]\n",
      "Outer Product (Row 2 of x and Row 2 of y):\n",
      " [[15 30  9]\n",
      " [10 20  6]\n",
      " [45 90 27]]\n",
      "Cartesian Product of x and y:\n",
      " [[ 2  1]\n",
      " [ 3  1]\n",
      " [ 4  1]\n",
      " [ 3  1]\n",
      " [ 2  1]\n",
      " [ 9  1]\n",
      " [ 2  5]\n",
      " [ 3  5]\n",
      " [ 4  5]\n",
      " [ 3  5]\n",
      " [ 2  5]\n",
      " [ 9  5]\n",
      " [ 2  0]\n",
      " [ 3  0]\n",
      " [ 4  0]\n",
      " [ 3  0]\n",
      " [ 2  0]\n",
      " [ 9  0]\n",
      " [ 2  5]\n",
      " [ 3  5]\n",
      " [ 4  5]\n",
      " [ 3  5]\n",
      " [ 2  5]\n",
      " [ 9  5]\n",
      " [ 2 10]\n",
      " [ 3 10]\n",
      " [ 4 10]\n",
      " [ 3 10]\n",
      " [ 2 10]\n",
      " [ 9 10]\n",
      " [ 2  3]\n",
      " [ 3  3]\n",
      " [ 4  3]\n",
      " [ 3  3]\n",
      " [ 2  3]\n",
      " [ 9  3]]\n"
     ]
    }
   ],
   "source": [
    "#(h)\n",
    "x = np.array([[2, 3, 4], [3, 2, 9]])\n",
    "y = np.array([[1, 5, 0], [5, 10, 3]])\n",
    "\n",
    "# Inner product\n",
    "inner_product = np.dot(x, y.T)\n",
    "print(\"Inner Product (Dot Product) of x and y:\\n\", inner_product)\n",
    "\n",
    "# Outer product\n",
    "outer_product_1 = np.outer(x[0], y[0])  # Outer product of first rows\n",
    "outer_product_2 = np.outer(x[1], y[1])  # Outer product of second rows\n",
    "print(\"Outer Product (Row 1 of x and Row 1 of y):\\n\", outer_product_1)\n",
    "print(\"Outer Product (Row 2 of x and Row 2 of y):\\n\", outer_product_2)\n",
    "\n",
    "# Cartesian product \n",
    "x_mesh, y_mesh = np.meshgrid(x.flatten(), y.flatten())\n",
    "cartesian_product = np.vstack([x_mesh.flatten(), y_mesh.flatten()]).T\n",
    "print(\"Cartesian Product of x and y:\\n\", cartesian_product)\n"
   ]
  },
  {
   "cell_type": "code",
   "execution_count": 12,
   "id": "705a3751",
   "metadata": {},
   "outputs": [
    {
     "name": "stdout",
     "output_type": "stream",
     "text": [
      "Element-wise absolute value:\n",
      " [[1 2 3]\n",
      " [4 5 6]]\n",
      "Percentiles (25th, 50th, 75th) of flattened array:\n",
      " [-3.5 -0.5  2.5]\n",
      "Percentiles (25th, 50th, 75th) for each column:\n",
      " [[-2.75 -0.25 -3.75]\n",
      " [-1.5   1.5  -1.5 ]\n",
      " [-0.25  3.25  0.75]]\n",
      "Percentiles (25th, 50th, 75th) for each row:\n",
      " [[-0.5 -5. ]\n",
      " [ 1.  -4. ]\n",
      " [ 2.   0.5]]\n",
      "Mean of flattened array: -0.5\n",
      "Median of flattened array: -0.5\n",
      "Standard Deviation of flattened array: 3.8622100754188224\n",
      "Mean for each column:\n",
      " [-1.5  1.5 -1.5]\n",
      "Median for each column:\n",
      " [-1.5  1.5 -1.5]\n",
      "Standard Deviation for each column:\n",
      " [2.5 3.5 4.5]\n",
      "Mean for each row:\n",
      " [ 0.66666667 -1.66666667]\n",
      "Median for each row:\n",
      " [ 1. -4.]\n",
      "Standard Deviation for each row:\n",
      " [2.05480467 4.78423336]\n"
     ]
    }
   ],
   "source": [
    "#Q.2\n",
    "\n",
    "#(a)\n",
    "array = np.array([[1, -2, 3], [-4, 5, -6]])\n",
    "\n",
    "#(i)\n",
    "abs_value = np.abs(array)\n",
    "print(\"Element-wise absolute value:\\n\", abs_value)\n",
    "\n",
    "#(ii)\n",
    "flattened_array = array.flatten()\n",
    "percentiles_flattened = np.percentile(flattened_array, [25, 50, 75])\n",
    "print(\"Percentiles (25th, 50th, 75th) of flattened array:\\n\", percentiles_flattened)\n",
    "\n",
    "percentiles_column = np.percentile(array, [25, 50, 75], axis=0)\n",
    "print(\"Percentiles (25th, 50th, 75th) for each column:\\n\", percentiles_column)\n",
    "\n",
    "percentiles_row = np.percentile(array, [25, 50, 75], axis=1)\n",
    "print(\"Percentiles (25th, 50th, 75th) for each row:\\n\", percentiles_row)\n",
    "\n",
    "#(iii)\n",
    "mean_flattened = np.mean(flattened_array)\n",
    "median_flattened = np.median(flattened_array)\n",
    "std_flattened = np.std(flattened_array)\n",
    "\n",
    "print(\"Mean of flattened array:\", mean_flattened)\n",
    "print(\"Median of flattened array:\", median_flattened)\n",
    "print(\"Standard Deviation of flattened array:\", std_flattened)\n",
    "\n",
    "mean_column = np.mean(array, axis=0)\n",
    "median_column = np.median(array, axis=0)\n",
    "std_column = np.std(array, axis=0)\n",
    "\n",
    "print(\"Mean for each column:\\n\", mean_column)\n",
    "print(\"Median for each column:\\n\", median_column)\n",
    "print(\"Standard Deviation for each column:\\n\", std_column)\n",
    "\n",
    "mean_row = np.mean(array, axis=1)\n",
    "median_row = np.median(array, axis=1)\n",
    "std_row = np.std(array, axis=1)\n",
    "\n",
    "print(\"Mean for each row:\\n\", mean_row)\n",
    "print(\"Median for each row:\\n\", median_row)\n",
    "print(\"Standard Deviation for each row:\\n\", std_row)"
   ]
  },
  {
   "cell_type": "code",
   "execution_count": 17,
   "id": "839443ec",
   "metadata": {},
   "outputs": [
    {
     "name": "stdout",
     "output_type": "stream",
     "text": [
      "Floor values:\n",
      " [-2. -2. -1.  0.  1.  1.  3.]\n",
      "Ceiling values:\n",
      " [-1. -1. -0.  1.  2.  2.  3.]\n",
      "Truncated values:\n",
      " [-1. -1. -0.  0.  1.  1.  3.]\n",
      "Rounded values:\n",
      " [-2. -2. -0.  0.  2.  2.  3.]\n"
     ]
    }
   ],
   "source": [
    "#(b)\n",
    "a = np.array([-1.8, -1.6, -0.5, 0.5, 1.6, 1.8, 3.0])\n",
    "\n",
    "#(ii)\n",
    "floor_values = np.floor(a)\n",
    "ceil_values = np.ceil(a)\n",
    "trunc_values = np.trunc(a)\n",
    "\n",
    "print(\"Floor values:\\n\", floor_values)\n",
    "print(\"Ceiling values:\\n\", ceil_values)\n",
    "print(\"Truncated values:\\n\", trunc_values)\n",
    "\n",
    "rounded_values = np.round(a)\n",
    "print(\"Rounded values:\\n\", rounded_values)"
   ]
  },
  {
   "cell_type": "code",
   "execution_count": 18,
   "id": "2b4a6c61",
   "metadata": {},
   "outputs": [
    {
     "name": "stdout",
     "output_type": "stream",
     "text": [
      "Sorted array: [ 10  16  16  52  54  62 453]\n",
      "Indices of sorted array: [0 3 4 1 5 2 6]\n",
      "4 smallest elements: [10 16 16 52]\n",
      "5 largest elements: [ 16  52  54  62 453]\n",
      "Integer elements only: [1. 2. 3. 2.]\n",
      "Float elements only: [1.2 2.2]\n"
     ]
    }
   ],
   "source": [
    "#Q.3\n",
    "\n",
    "#(a)\n",
    "array_1 = np.array([10, 52, 62, 16, 16, 54, 453])\n",
    "\n",
    "#(i)\n",
    "sorted_array = np.sort(array_1)\n",
    "print(\"Sorted array:\", sorted_array)\n",
    "\n",
    "#(ii)\n",
    "indices_sorted = np.argsort(array_1)\n",
    "print(\"Indices of sorted array:\", indices_sorted)\n",
    "\n",
    "#(iii)\n",
    "smallest_4 = sorted_array[:4]\n",
    "print(\"4 smallest elements:\", smallest_4)\n",
    "\n",
    "#(iv)\n",
    "largest_5 = sorted_array[-5:]\n",
    "print(\"5 largest elements:\", largest_5)\n",
    "\n",
    "\n",
    "#(b)\n",
    "array_2 = np.array([1.0, 1.2, 2.2, 2.0, 3.0, 2.0])\n",
    "\n",
    "#(i)\n",
    "integer_elements = array_2[array_2 == np.floor(array_2)]\n",
    "print(\"Integer elements only:\", integer_elements)\n",
    "\n",
    "#(ii)\n",
    "float_elements = array_2[array_2 != np.floor(array_2)]\n",
    "print(\"Float elements only:\", float_elements)"
   ]
  },
  {
   "cell_type": "code",
   "execution_count": null,
   "id": "5db64d45",
   "metadata": {},
   "outputs": [],
   "source": [
    "#Q.4\n",
    "#(a)\n",
    "from PIL import Image\n",
    "import numpy as np\n",
    "\n",
    "def img_to_array(path, save_path):\n",
    "    # Open the image file\n",
    "    img = Image.open(path)\n",
    "    \n",
    "    # Check if the image is grayscale (mode 'L') or RGB (mode 'RGB')\n",
    "    if img.mode == 'RGB':\n",
    "        # Convert to NumPy array for RGB images\n",
    "        img_array = np.array(img)\n",
    "        print(\"Image is in RGB mode.\")\n",
    "    elif img.mode == 'L':\n",
    "        # Convert to NumPy array for grayscale images\n",
    "        img_array = np.array(img)\n",
    "        print(\"Image is in Grayscale mode.\")\n",
    "    else:\n",
    "        raise ValueError(\"Unsupported image mode: {}\".format(img.mode))\n",
    "    \n",
    "    # Save the array as a text file\n",
    "    np.savetxt(save_path, img_array.reshape(-1, img_array.shape[-1]) if img.mode == 'RGB' else img_array, fmt='%d')\n",
    "    print(f\"Image saved as a text file at {save_path}\")\n",
    "\n",
    "# Example usage:\n",
    "# Path to the image you want to process\n",
    "image_path = 'path_to_your_image.jpg'\n",
    "# Path to save the output text file\n",
    "save_text_path = 'image_array.txt'\n",
    "\n",
    "img_to_array(image_path, save_text_path)\n"
   ]
  },
  {
   "cell_type": "code",
   "execution_count": null,
   "id": "3df6d4c8",
   "metadata": {},
   "outputs": [],
   "source": [
    "#(b)\n",
    "import numpy as np\n",
    "import matplotlib.pyplot as plt\n",
    "\n",
    "def load_image_from_txt(file_path, is_rgb=True):\n",
    "    # Load the image array from the text file\n",
    "    img_array = np.loadtxt(file_path, dtype=int)\n",
    "    \n",
    "    # Check if the image is RGB or Grayscale and reshape accordingly\n",
    "    if is_rgb:\n",
    "        # Reshape for RGB images (3 color channels)\n",
    "        img_array = img_array.reshape((-1, 3))\n",
    "        img_array = img_array.reshape((int(np.sqrt(img_array.shape[0])), -1, 3))  # Adjust this based on your image's original dimensions\n",
    "    else:\n",
    "        # Reshape for Grayscale images (2D)\n",
    "        img_array = img_array.reshape(int(np.sqrt(img_array.shape[0])), -1)\n",
    "    \n",
    "    # Display the image\n",
    "    plt.imshow(img_array)\n",
    "    plt.axis('off')  # Turn off axis\n",
    "    plt.show()\n",
    "\n",
    "# Example usage\n",
    "# Load the saved image text file and display it\n",
    "load_image_from_txt('image_array.txt', is_rgb=True)\n"
   ]
  }
 ],
 "metadata": {
  "kernelspec": {
   "display_name": "Python 3 (ipykernel)",
   "language": "python",
   "name": "python3"
  },
  "language_info": {
   "codemirror_mode": {
    "name": "ipython",
    "version": 3
   },
   "file_extension": ".py",
   "mimetype": "text/x-python",
   "name": "python",
   "nbconvert_exporter": "python",
   "pygments_lexer": "ipython3",
   "version": "3.9.12"
  }
 },
 "nbformat": 4,
 "nbformat_minor": 5
}
